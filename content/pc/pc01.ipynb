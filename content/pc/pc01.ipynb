{
 "cells": [
  {
   "cell_type": "markdown",
   "metadata": {},
   "source": [
    "# The theory of thermal explosion\n",
    "\n",
    "according to Semenov and Frank-Kamenetskii"
   ]
  },
  {
   "cell_type": "code",
   "execution_count": null,
   "metadata": {
    "editable": true,
    "slideshow": {
     "slide_type": ""
    },
    "tags": [
     "remove-input"
    ]
   },
   "outputs": [],
   "source": [
    "import numpy as np\n",
    "from scipy.integrate import solve_ivp\n",
    "import plotly.graph_objects as go\n",
    "from plotly.subplots import make_subplots\n",
    "import plotly.io as pio\n",
    "pio.templates.default = \"seaborn\""
   ]
  },
  {
   "cell_type": "markdown",
   "metadata": {
    "editable": true,
    "slideshow": {
     "slide_type": ""
    },
    "tags": []
   },
   "source": [
    "## Model 1 - adiabatic explosion"
   ]
  },
  {
   "cell_type": "markdown",
   "metadata": {
    "editable": true,
    "slideshow": {
     "slide_type": ""
    },
    "tags": []
   },
   "source": [
    "**Evolution of $\\widetilde{\\theta}$ solution of $\\, d_{\\tau} \\widetilde{\\theta} = e^{\\widetilde{\\theta}}$**"
   ]
  },
  {
   "cell_type": "code",
   "execution_count": null,
   "metadata": {
    "editable": true,
    "slideshow": {
     "slide_type": ""
    },
    "tags": [
     "remove-input"
    ]
   },
   "outputs": [],
   "source": [
    "def fcn(t, theta): \n",
    "    return np.exp(theta)\n",
    "\n",
    "tini = 0.0\n",
    "tend = 1.0\n",
    "\n",
    "yini = (0.0,)\n",
    "\n",
    "sol = solve_ivp(fcn, (tini, tend), yini, method='RK45', rtol=1.e-12, atol=1.e-12)\n",
    "\n",
    "fig = go.Figure()\n",
    "fig.add_trace(go.Scatter(x=sol.t, y=sol.y[0]))\n",
    "fig.update_xaxes(range=[0, 1.1])\n",
    "fig.update_layout(title=\"Evolution of \\u03B8(t)\", xaxis_title=\"t\", yaxis_title=\"\\u03B8\")\n",
    "fig.show()"
   ]
  },
  {
   "cell_type": "markdown",
   "metadata": {
    "editable": true,
    "slideshow": {
     "slide_type": ""
    },
    "tags": []
   },
   "source": [
    "**Graph of the function $ \\theta \\mapsto \\lambda(\\theta) = \\left(1-\\frac{\\theta}{\\bar{T}_r}\\right) e^{\\frac{\\theta}{1+\\theta/\\beta}}$**"
   ]
  },
  {
   "cell_type": "code",
   "execution_count": null,
   "metadata": {
    "editable": true,
    "slideshow": {
     "slide_type": ""
    },
    "tags": [
     "remove-input"
    ]
   },
   "outputs": [],
   "source": [
    "T0 = 400.\n",
    "Tb = 3000.\n",
    "\n",
    "beta = np.arange(30, 101, 10)\n",
    "\n",
    "fig = go.Figure()\n",
    "\n",
    "for i, beta_i in enumerate(beta):\n",
    "    barTr = beta_i*(Tb-T0)/T0\n",
    "    theta = np.linspace(0,barTr,1000)\n",
    "    Lambda = np.exp(theta/(1+theta/beta_i)) * (1-theta/barTr)\n",
    "    fig.add_trace(go.Scatter(visible=False, x=theta, y=Lambda))\n",
    "\n",
    "fig.data[0].visible = True\n",
    "\n",
    "# create slider\n",
    "steps = []\n",
    "for i, beta_i in enumerate(beta):\n",
    "    step = dict(method=\"update\", label = f\"{beta_i}\", args=[{\"visible\": [(el==i) for el in range(beta.size)]}])\n",
    "    steps.append(step)\n",
    "sliders = [dict(currentvalue={'prefix': '\\u03B2  = '}, steps=steps)]\n",
    "\n",
    "fig.update_layout(sliders=sliders, yaxis=dict(exponentformat = 'e'), \n",
    "                  title=\"\\u03BB (\\u03B8)\", xaxis_title=\"\\u03B8\", yaxis_title=\"\\u03BB\")\n",
    "fig['layout']['sliders'][0]['pad']=dict(t= 50)\n",
    "fig.show()"
   ]
  },
  {
   "cell_type": "markdown",
   "metadata": {},
   "source": [
    "## Model 2 - explosion taking into account thermal losses"
   ]
  },
  {
   "cell_type": "markdown",
   "metadata": {},
   "source": [
    "$$\n",
    "\\left\\{\\begin{aligned}\n",
    "d_{\\tau} \\theta & = \\exp\\Bigg(\\frac{\\theta}{1 + \\theta \\, / \\, \\beta}\\Bigg) y - \\alpha_0 \\, \\theta \\\\\n",
    "d_{\\tau} y & = -\\frac{1}{\\overline T_r} \\exp\\Bigg(\\frac{\\theta}{1 + \\theta \\, / \\, \\beta}\\Bigg)  y\n",
    "\\end{aligned}\\right.\n",
    "$$"
   ]
  },
  {
   "cell_type": "code",
   "execution_count": null,
   "metadata": {
    "editable": true,
    "slideshow": {
     "slide_type": ""
    },
    "tags": [
     "remove-input"
    ]
   },
   "outputs": [],
   "source": [
    "class second_model:\n",
    "\n",
    "    def __init__(self, alpha, T0, Tb, beta):\n",
    "        self.alpha = alpha\n",
    "        self.T0 = T0\n",
    "        self.Tb = Tb\n",
    "        self.beta = beta \n",
    "\n",
    "    def fcn(self, t, u):\n",
    "        theta, y = u\n",
    "        alpha = self.alpha\n",
    "        beta = self.beta\n",
    "        T0 = self.T0\n",
    "        Tb = self.Tb\n",
    "        barTr = beta*(Tb-T0)/T0\n",
    "        theta_dot = np.exp(theta/(1+(theta/beta))) * y - alpha*theta \n",
    "        y_dot     = (-1/barTr) * np.exp(theta/(1+(theta/beta))) * y\n",
    "        return (theta_dot, y_dot)"
   ]
  },
  {
   "cell_type": "markdown",
   "metadata": {},
   "source": [
    "**Evolution of $\\theta(t)$ and $y(t)$**"
   ]
  },
  {
   "cell_type": "code",
   "execution_count": null,
   "metadata": {
    "editable": true,
    "slideshow": {
     "slide_type": ""
    },
    "tags": [
     "remove-input"
    ]
   },
   "outputs": [],
   "source": [
    "alpha = np.arange(0, 2.9, 0.2)\n",
    "\n",
    "T0 = 400.\n",
    "Tb = 3000.\n",
    "beta = 30.\n",
    "\n",
    "tini = 0.0\n",
    "tend = 20.0\n",
    "\n",
    "yini = (0.0, 1.0)\n",
    "\n",
    "fig = make_subplots(rows=2, cols=1, vertical_spacing=0.1,\n",
    "                    subplot_titles=(\"Evolution of \\u03B8(t)\", \"Evolution of y(t)\"))\n",
    "\n",
    "for i, alpha_i in enumerate(alpha):\n",
    "    sm = second_model(alpha_i, T0, Tb, beta)\n",
    "    fcn = sm.fcn\n",
    "    sol = solve_ivp(fcn, (tini, tend), yini, method='Radau', atol=1.e-8, rtol=1.e-8)\n",
    "    fig.add_trace(go.Scatter(visible=False, x=sol.t, y=sol.y[0]), row=1, col=1)\n",
    "    fig.add_trace(go.Scatter(visible=False, x=sol.t, y=sol.y[1]), row=2, col=1)\n",
    "\n",
    "    \n",
    "fig.data[0].visible = True\n",
    "fig.data[1].visible = True\n",
    "\n",
    "# create slider\n",
    "steps = []\n",
    "for i, alpha_i in enumerate(alpha):\n",
    "    step = dict(method=\"update\", label = f\"{alpha_i:.1f}\", \n",
    "                args=[{\"visible\": [(el==2*i) or (el==2*i+1) for el in range(len(fig.data))]}])\n",
    "    steps.append(step)\n",
    "sliders = [dict(currentvalue={'prefix': '\\u03B1 = '}, steps=steps)]\n",
    "    \n",
    "fig.update_layout(sliders=sliders, showlegend=False, height=800)\n",
    "fig.update_xaxes(title_text=\"t\", row=1, col=1)\n",
    "fig.update_yaxes(title_text=\"\\u03B8\", row=1, col=1)\n",
    "fig.update_xaxes(title_text=\"t\", row=2, col=1)\n",
    "fig.update_yaxes(title_text=\"y\", row=2, col=1)\n",
    "fig['layout']['sliders'][0]['pad']=dict(t= 50)\n",
    "fig.show()"
   ]
  },
  {
   "cell_type": "markdown",
   "metadata": {},
   "source": [
    "**Graphs of  $e^\\widetilde{\\theta}$ and $ \\alpha_0 \\, \\widetilde{\\theta}$**"
   ]
  },
  {
   "cell_type": "code",
   "execution_count": null,
   "metadata": {
    "editable": true,
    "slideshow": {
     "slide_type": ""
    },
    "tags": [
     "remove-input"
    ]
   },
   "outputs": [],
   "source": [
    "e = np.exp(1)\n",
    "eover10 = np.exp(1) / 10\n",
    "alpha = np.arange(e-5*eover10, e+5*eover10, eover10)\n",
    "\n",
    "theta = np.linspace(0, 2.5,1000)\n",
    "\n",
    "exp = np.exp(theta)\n",
    "q = alpha_i*theta\n",
    "\n",
    "fig = go.Figure()\n",
    "fig.add_trace(go.Scatter(x=theta, y=exp, name=\"exp(\\u03B8)\"))\n",
    "\n",
    "for i, alpha_i in enumerate(alpha):\n",
    "    q = alpha_i*theta\n",
    "    fig.add_trace(go.Scatter(visible=False, x=theta, y=q, name=\"\\u03B10 \\u03B8\"))\n",
    "    \n",
    "fig.data[1].visible = True\n",
    "\n",
    "steps = []\n",
    "for i, alpha_i in enumerate(alpha):\n",
    "    step = dict(method=\"update\", label = f\"{alpha_i:.3f}\", \n",
    "                args=[{\"visible\": [(el==0) or (el==i+1) for el in range(len(fig.data))]}])\n",
    "    steps.append(step)\n",
    "sliders = [dict(currentvalue={'prefix': '\\u03B10 = '}, steps=steps)]\n",
    "\n",
    "fig.update_layout(sliders=sliders, xaxis_title=\"\\u03B8\")\n",
    "fig['layout']['sliders'][0]['pad']=dict(t= 50)\n",
    "fig.show()"
   ]
  },
  {
   "cell_type": "markdown",
   "metadata": {},
   "source": [
    "## Model 3 - explosion taking into account convection\n",
    "\n",
    "$$\n",
    "\\left\\{\\begin{aligned}\n",
    "d_{\\tau} \\widetilde{\\theta} & = e^{\\widetilde{\\theta}} - \\alpha_0 \\, (1 + \\mu \\, \\psi^2) \\, \\widetilde{\\theta} \\\\\n",
    "d_{\\tau} \\psi & = -a \\, \\psi (\\psi^2 + \\widetilde{\\theta}_c - \\widetilde{\\theta})\n",
    "\\end{aligned}\\right.\n",
    "$$"
   ]
  },
  {
   "cell_type": "code",
   "execution_count": null,
   "metadata": {
    "editable": true,
    "slideshow": {
     "slide_type": ""
    },
    "tags": [
     "remove-input"
    ]
   },
   "outputs": [],
   "source": [
    "class third_model:\n",
    "\n",
    "    def __init__(self, alpha0, mu, a, thetac):\n",
    "        self.alpha0 = alpha0\n",
    "        self.mu = mu\n",
    "        self.a = a\n",
    "        self.thetac = thetac\n",
    "\n",
    "    def fcn(self, t, u):\n",
    "        theta, psi = u\n",
    "        alpha0 = self.alpha0\n",
    "        mu = self.mu\n",
    "        a = self.a\n",
    "        thetac = self.thetac\n",
    "        theta_dot = np.exp(theta) - alpha0*(1 + mu*psi*psi) * theta\n",
    "        psi_dot = -a*psi*(psi*psi+thetac-theta)\n",
    "        return (theta_dot, psi_dot)"
   ]
  },
  {
   "cell_type": "markdown",
   "metadata": {},
   "source": [
    "**Evolution of $\\widetilde{\\theta}(t)$ and phase plan $(\\widetilde{\\theta}, \\psi)$**"
   ]
  },
  {
   "cell_type": "code",
   "execution_count": null,
   "metadata": {
    "editable": true,
    "slideshow": {
     "slide_type": ""
    },
    "tags": [
     "remove-input"
    ]
   },
   "outputs": [],
   "source": [
    "alpha0 = 2.7 \n",
    "mu = 0.7\n",
    "a =  4.3\n",
    "\n",
    "thetac = np.arange(1.0, 1.066, 0.005)\n",
    "\n",
    "tini = 0. \n",
    "tend = 300.\n",
    "\n",
    "yini = (1.0, 0.5)\n",
    "# yini = (0., 0.01)\n",
    "\n",
    "\n",
    "fig = make_subplots(rows=2, cols=1, vertical_spacing=0.15,\n",
    "                    subplot_titles=(\"Evolution of \\u03B8(t)\", \"Phase plan (\\u03B8, \\u03C8)\"))\n",
    "\n",
    "for i, thetac_i in enumerate(thetac):\n",
    "    tm = third_model(alpha0, mu, a, thetac_i)\n",
    "    fcn = tm.fcn\n",
    "    sol = solve_ivp(fcn, (tini, tend), yini, method='RK45', atol=1.e-8, rtol=1.e-8)\n",
    "    fig.add_trace(go.Scatter(visible=False, x=sol.t, y=sol.y[0]), row=1, col=1)\n",
    "    fig.add_trace(go.Scatter(visible=False, x=sol.y[0], y=sol.y[1]), row=2, col=1)\n",
    "\n",
    "fig.data[0].visible = True\n",
    "fig.data[1].visible = True\n",
    "\n",
    "# create slider\n",
    "steps = []\n",
    "for i, thetac_i in enumerate(thetac):\n",
    "    step = dict(method=\"update\", label = f\"{thetac_i:.3f}\", \n",
    "                args=[{\"visible\": [(el==2*i) or (el==2*i+1) for el in range(len(fig.data))]}])\n",
    "    steps.append(step)\n",
    "sliders = [dict(currentvalue={'prefix': '\\u03B8c = '}, steps=steps)]\n",
    "\n",
    "fig.update_layout(sliders=sliders, showlegend=False, height=800)\n",
    "fig.update_xaxes(title_text=\"t\", row=1, col=1)\n",
    "fig.update_yaxes(title_text=\"\\u03B8\", row=1, col=1)\n",
    "fig.update_xaxes(title_text=\"\\u03B8\", row=2, col=1)\n",
    "fig.update_yaxes(title_text=\"\\u03C8\", row=2, col=1)\n",
    "fig['layout']['sliders'][0]['pad']=dict(t= 50)\n",
    "fig.show()"
   ]
  }
 ],
 "metadata": {
  "@webio": {
   "lastCommId": null,
   "lastKernelId": null
  },
  "kernelspec": {
   "display_name": "Python 3 (ipykernel)",
   "language": "python",
   "name": "python3"
  },
  "language_info": {
   "codemirror_mode": {
    "name": "ipython",
    "version": 3
   },
   "file_extension": ".py",
   "mimetype": "text/x-python",
   "name": "python",
   "nbconvert_exporter": "python",
   "pygments_lexer": "ipython3",
   "version": "3.11.5"
  },
  "latex_envs": {
   "LaTeX_envs_menu_present": true,
   "autoclose": false,
   "autocomplete": false,
   "bibliofile": "biblio.bib",
   "cite_by": "apalike",
   "current_citInitial": 1,
   "eqLabelWithNumbers": true,
   "eqNumInitial": 1,
   "hotkeys": {
    "equation": "Ctrl-E",
    "itemize": "Ctrl-I"
   },
   "labels_anchors": false,
   "latex_user_defs": false,
   "report_style_numbering": false,
   "user_envs_cfg": false
  },
  "widgets": {
   "application/vnd.jupyter.widget-state+json": {
    "state": {},
    "version_major": 2,
    "version_minor": 0
   }
  }
 },
 "nbformat": 4,
 "nbformat_minor": 4
}
